{
  "nbformat": 4,
  "nbformat_minor": 0,
  "metadata": {
    "colab": {
      "name": "ntcc_image_similarity",
      "provenance": [],
      "collapsed_sections": [],
      "include_colab_link": true
    },
    "kernelspec": {
      "name": "python3",
      "display_name": "Python 3"
    },
    "language_info": {
      "name": "python"
    }
  },
  "cells": [
    {
      "cell_type": "markdown",
      "metadata": {
        "id": "view-in-github",
        "colab_type": "text"
      },
      "source": [
        "<a href=\"https://colab.research.google.com/github/Amitkumar631/Nttc-project/blob/master/ntcc_image_similarity.ipynb\" target=\"_parent\"><img src=\"https://colab.research.google.com/assets/colab-badge.svg\" alt=\"Open In Colab\"/></a>"
      ]
    },
    {
      "cell_type": "code",
      "metadata": {
        "id": "dTDGiF9Zdoe3"
      },
      "source": [
        "import random\n",
        "import numpy as np\n",
        "import tensorflow as tf\n",
        "import matplotlib.pyplot as plt\n",
        "from tensorflow.keras.datasets import mnist\n",
        "\n",
        "from keras.models import Sequential\n",
        "from keras.layers import Conv2D, ZeroPadding2D, Activation, Input, concatenate, Dropout, GlobalAveragePooling2D\n",
        "from keras.models import Model\n",
        "from keras.layers.pooling import MaxPooling2D\n",
        "from keras.layers.merge import Concatenate\n",
        "from keras.layers.core import Lambda, Flatten, Dense\n",
        "from keras.initializers import glorot_uniform\n",
        "from sklearn.preprocessing import LabelBinarizer\n",
        "from keras.optimizers import *\n",
        "from keras.engine.topology import Layer\n",
        "from keras import backend as K\n",
        "from keras.regularizers import l2\n",
        "from keras.utils.vis_utils import plot_model\n",
        "import os\n",
        "from PIL import Image"
      ],
      "execution_count": null,
      "outputs": []
    },
    {
      "cell_type": "code",
      "metadata": {
        "colab": {
          "base_uri": "https://localhost:8080/"
        },
        "id": "Q5Ybt0tae_kN",
        "outputId": "1afdc0db-44b2-442f-9c88-758a26a64686"
      },
      "source": [
        "train_path='/content/drive/MyDrive/Covid19-dataset/train'\n",
        "folders=os.listdir(train_path)\n",
        "print(folders)"
      ],
      "execution_count": null,
      "outputs": [
        {
          "output_type": "stream",
          "text": [
            "['Covid', 'Pneumonia', 'Normal']\n"
          ],
          "name": "stdout"
        }
      ]
    },
    {
      "cell_type": "code",
      "metadata": {
        "id": "IucDtCvtzcHK"
      },
      "source": [
        "test_path='/content/drive/MyDrive/Covid19-dataset/test'"
      ],
      "execution_count": null,
      "outputs": []
    },
    {
      "cell_type": "code",
      "metadata": {
        "id": "6EMfxfN0wE6a"
      },
      "source": [
        "from keras.preprocessing import image\n",
        "image_data=[]\n",
        "covid_image_data=[]\n",
        "normal_image_data=[]\n",
        "pneumonia_image_data=[]\n",
        "covid_labels=[]\n",
        "normal_labels=[]\n",
        "pneumonia_labels=[]\n",
        "labels=[]\n",
        "for ix in folders:\n",
        "  path=os.path.join(train_path+'/',ix)\n",
        "  for im in os.listdir(path):\n",
        "    img=image.load_img(os.path.join(path+'/',im),target_size=((224,224)))\n",
        "    img_array=image.img_to_array(img)\n",
        "    if(ix=='Covid'):\n",
        "      image_data.append(img_array)\n",
        "      labels.append(2)\n",
        "    elif (ix=='Normal'):\n",
        "      image_data.append(img_array)\n",
        "      labels.append(0)\n",
        "    else:\n",
        "      image_data.append(img_array)\n",
        "      labels.append(1)"
      ],
      "execution_count": null,
      "outputs": []
    },
    {
      "cell_type": "code",
      "metadata": {
        "colab": {
          "base_uri": "https://localhost:8080/"
        },
        "id": "o_ZbXdK5Dud5",
        "outputId": "42600d03-b04e-4eb6-abec-f8f4e137d174"
      },
      "source": [
        "combined=list(zip(image_data,labels))\n",
        "#random.shuffle(combined)\n",
        "image_data[:],labels[:]=zip(*combined)\n",
        "print(labels[:5])"
      ],
      "execution_count": null,
      "outputs": [
        {
          "output_type": "stream",
          "text": [
            "[2, 2, 2, 2, 2]\n"
          ],
          "name": "stdout"
        }
      ]
    },
    {
      "cell_type": "code",
      "metadata": {
        "colab": {
          "base_uri": "https://localhost:8080/"
        },
        "id": "Z9dzOojBGL23",
        "outputId": "9111cba0-8fb8-4a02-f3e5-45502a48f7e2"
      },
      "source": [
        "X_train=np.array(image_data)\n",
        "Y_train=np.array(labels)\n",
        "print(X_train.shape, Y_train.shape)"
      ],
      "execution_count": null,
      "outputs": [
        {
          "output_type": "stream",
          "text": [
            "(259, 224, 224, 3) (259,)\n"
          ],
          "name": "stdout"
        }
      ]
    },
    {
      "cell_type": "code",
      "metadata": {
        "id": "oNZ_fxni0o5P"
      },
      "source": [
        "from keras.preprocessing import image\n",
        "covid_image_data=[]\n",
        "normal_image_data=[]\n",
        "pneumonia_image_data=[]\n",
        "covid_labels=[]\n",
        "normal_labels=[]\n",
        "pneumonia_labels=[]\n",
        "image_data=[]\n",
        "labels=[]\n",
        "for ix in folders:\n",
        "  path=os.path.join(test_path+'/',ix)\n",
        "  for im in os.listdir(path):\n",
        "    img=image.load_img(os.path.join(path+'/',im),target_size=((224,224)))\n",
        "    img_array=image.img_to_array(img)\n",
        "    if(ix=='Covid'):\n",
        "     # covid_image_data.append(img_array)\n",
        "      #covid_labels.append(2)\n",
        "      image_data.append(img_array)\n",
        "      labels.append(2)\n",
        "    elif (ix=='Normal'):\n",
        "     # normal_image_data.append(img_array)\n",
        "      #normal_labels.append(0)\n",
        "      image_data.append(img_array)\n",
        "      labels.append(0)\n",
        "    else:\n",
        "     # pneumonia_image_data.append(img_array)\n",
        "      #pneumonia_labels.append(1)\n",
        "      image_data.append(img_array)\n",
        "      labels.append(1)"
      ],
      "execution_count": null,
      "outputs": []
    },
    {
      "cell_type": "code",
      "metadata": {
        "colab": {
          "base_uri": "https://localhost:8080/"
        },
        "id": "NLWBIq4Xqiru",
        "outputId": "c0ac5cfd-7928-4ba9-a0e1-5f40295a423b"
      },
      "source": [
        "from google.colab import drive\n",
        "drive.mount('/content/drive')"
      ],
      "execution_count": null,
      "outputs": [
        {
          "output_type": "stream",
          "text": [
            "Mounted at /content/drive\n"
          ],
          "name": "stdout"
        }
      ]
    },
    {
      "cell_type": "code",
      "metadata": {
        "colab": {
          "base_uri": "https://localhost:8080/"
        },
        "id": "dkG5LdWgEcq0",
        "outputId": "d10ae8a4-6d72-4125-9fdd-de3fe07e4e5f"
      },
      "source": [
        "combined=list(zip(image_data,labels))\n",
        "#random.shuffle(combined)\n",
        "image_data[:],labels[:]=zip(*combined)\n",
        "print(labels[:5])"
      ],
      "execution_count": null,
      "outputs": [
        {
          "output_type": "stream",
          "text": [
            "[2, 2, 2, 2, 2]\n"
          ],
          "name": "stdout"
        }
      ]
    },
    {
      "cell_type": "code",
      "metadata": {
        "colab": {
          "base_uri": "https://localhost:8080/"
        },
        "id": "UlYu16GXGrQK",
        "outputId": "688f96fd-87c0-407f-cb26-1da2b0837d3c"
      },
      "source": [
        "X_test=np.array(image_data)\n",
        "Y_test=np.array(labels)\n",
        "print(X_test.shape, Y_test.shape)"
      ],
      "execution_count": null,
      "outputs": [
        {
          "output_type": "stream",
          "text": [
            "(66, 224, 224, 3) (66,)\n"
          ],
          "name": "stdout"
        }
      ]
    },
    {
      "cell_type": "code",
      "metadata": {
        "id": "mo2LvNUlHN5g"
      },
      "source": [
        "from keras.utils import np_utils\n",
        "X_train=X_train/255.0\n",
        "X_test=X_test/255.0\n",
        "Y_train = np_utils.to_categorical(Y_train, 3)"
      ],
      "execution_count": null,
      "outputs": []
    },
    {
      "cell_type": "code",
      "metadata": {
        "id": "TIzLwSppvAIF"
      },
      "source": [
        "from tensorflow.keras.models import Sequential\n",
        "from tensorflow.keras import layers,models\n",
        "num_classes = 3\n",
        "\n",
        "model = Sequential([\n",
        "    layers.Conv2D(16,3, padding = \"same\", activation = \"relu\"),\n",
        "    layers.MaxPooling2D(),\n",
        "    layers.Conv2D(32,3, padding = \"same\", activation = \"relu\"),\n",
        "    layers.MaxPooling2D(),\n",
        "    layers.Conv2D(48,3,padding='same',activation='relu'),\n",
        "    layers.MaxPooling2D(),\n",
        "    layers.Flatten(),\n",
        "    layers.Dense(128,activation = \"relu\"),\n",
        "    layers.Dense(num_classes,activation='softmax')\n",
        "])"
      ],
      "execution_count": null,
      "outputs": []
    },
    {
      "cell_type": "code",
      "metadata": {
        "id": "qQYwIuIz57No"
      },
      "source": [
        "model.compile(loss=\"categorical_crossentropy\", optimizer=\"adam\", metrics=[\"accuracy\"])\n"
      ],
      "execution_count": null,
      "outputs": []
    },
    {
      "cell_type": "code",
      "metadata": {
        "colab": {
          "base_uri": "https://localhost:8080/"
        },
        "id": "46L3yQMKHg3r",
        "outputId": "70fee908-3007-4c52-ad9d-bd9fec901718"
      },
      "source": [
        "model.fit(X_train,Y_train,batch_size=8,epochs=10)"
      ],
      "execution_count": null,
      "outputs": [
        {
          "output_type": "stream",
          "text": [
            "Epoch 1/10\n",
            "33/33 [==============================] - 13s 366ms/step - loss: 0.7395 - accuracy: 0.7297\n",
            "Epoch 2/10\n",
            "33/33 [==============================] - 12s 364ms/step - loss: 0.2950 - accuracy: 0.8880\n",
            "Epoch 3/10\n",
            "33/33 [==============================] - 12s 369ms/step - loss: 0.0831 - accuracy: 0.9691\n",
            "Epoch 4/10\n",
            "33/33 [==============================] - 12s 374ms/step - loss: 0.0288 - accuracy: 0.9923\n",
            "Epoch 5/10\n",
            "33/33 [==============================] - 12s 368ms/step - loss: 0.0531 - accuracy: 0.9768\n",
            "Epoch 6/10\n",
            "33/33 [==============================] - 12s 369ms/step - loss: 0.1081 - accuracy: 0.9653\n",
            "Epoch 7/10\n",
            "33/33 [==============================] - 12s 373ms/step - loss: 0.0154 - accuracy: 0.9961\n",
            "Epoch 8/10\n",
            "33/33 [==============================] - 12s 373ms/step - loss: 0.0014 - accuracy: 1.0000\n",
            "Epoch 9/10\n",
            "33/33 [==============================] - 12s 373ms/step - loss: 3.7704e-04 - accuracy: 1.0000\n",
            "Epoch 10/10\n",
            "33/33 [==============================] - 12s 370ms/step - loss: 2.0787e-04 - accuracy: 1.0000\n"
          ],
          "name": "stdout"
        },
        {
          "output_type": "execute_result",
          "data": {
            "text/plain": [
              "<tensorflow.python.keras.callbacks.History at 0x7f0dc0b3e3d0>"
            ]
          },
          "metadata": {
            "tags": []
          },
          "execution_count": 13
        }
      ]
    },
    {
      "cell_type": "code",
      "metadata": {
        "id": "zpcln_T_LJKQ"
      },
      "source": [
        "YY_test=Y_test\n",
        "YY_test=np_utils.to_categorical(YY_test,3)\n",
        "#YY_test=np_utils.to_categorical(YY_test,3)"
      ],
      "execution_count": null,
      "outputs": []
    },
    {
      "cell_type": "code",
      "metadata": {
        "colab": {
          "base_uri": "https://localhost:8080/"
        },
        "id": "437j9EmiMAxu",
        "outputId": "71dfcf13-3687-49b2-8e5e-74ca5e9e7a91"
      },
      "source": [
        "model.evaluate(X_test,YY_test)"
      ],
      "execution_count": null,
      "outputs": [
        {
          "output_type": "stream",
          "text": [
            "3/3 [==============================] - 1s 211ms/step - loss: 0.3627 - accuracy: 0.9242\n"
          ],
          "name": "stdout"
        },
        {
          "output_type": "execute_result",
          "data": {
            "text/plain": [
              "[0.36265888810157776, 0.9242424368858337]"
            ]
          },
          "metadata": {
            "tags": []
          },
          "execution_count": 15
        }
      ]
    },
    {
      "cell_type": "code",
      "metadata": {
        "id": "AR_W7snMMgd9",
        "colab": {
          "base_uri": "https://localhost:8080/"
        },
        "outputId": "7ad75889-b0a2-471f-bab2-40bc7214031f"
      },
      "source": [
        "y_pred=model.predict(X_test)\n",
        "y_pred"
      ],
      "execution_count": null,
      "outputs": [
        {
          "output_type": "execute_result",
          "data": {
            "text/plain": [
              "array([[4.80408602e-09, 1.26582878e-08, 1.00000000e+00],\n",
              "       [1.51142228e-06, 6.42857867e-06, 9.99992013e-01],\n",
              "       [3.74491445e-11, 1.64209951e-06, 9.99998331e-01],\n",
              "       [3.40328654e-10, 2.88411650e-09, 1.00000000e+00],\n",
              "       [1.03297043e-06, 3.26344502e-06, 9.99995708e-01],\n",
              "       [1.19200072e-08, 6.89502656e-02, 9.31049705e-01],\n",
              "       [4.13226462e-06, 2.76084453e-08, 9.99995828e-01],\n",
              "       [2.28551856e-12, 1.21202259e-09, 1.00000000e+00],\n",
              "       [4.74839089e-06, 4.48345199e-05, 9.99950409e-01],\n",
              "       [1.55385127e-08, 1.96955854e-10, 1.00000000e+00],\n",
              "       [5.31458155e-10, 1.03357670e-04, 9.99896646e-01],\n",
              "       [1.04926086e-08, 6.95959868e-09, 1.00000000e+00],\n",
              "       [7.22894677e-09, 4.11840340e-09, 1.00000000e+00],\n",
              "       [2.16774099e-11, 4.69099369e-12, 1.00000000e+00],\n",
              "       [5.79588892e-08, 1.47004528e-06, 9.99998450e-01],\n",
              "       [5.80508475e-10, 2.15333401e-07, 9.99999762e-01],\n",
              "       [5.60446779e-07, 7.10885274e-07, 9.99998689e-01],\n",
              "       [2.74904073e-06, 3.47026941e-07, 9.99996901e-01],\n",
              "       [9.33303852e-07, 2.97432211e-06, 9.99996066e-01],\n",
              "       [4.97008887e-06, 2.39364397e-07, 9.99994755e-01],\n",
              "       [1.12026491e-11, 1.11251764e-01, 8.88748169e-01],\n",
              "       [4.13226462e-06, 2.76084453e-08, 9.99995828e-01],\n",
              "       [9.93209076e-04, 5.69836311e-06, 9.99001086e-01],\n",
              "       [5.05111877e-15, 4.02793474e-14, 1.00000000e+00],\n",
              "       [1.49236328e-07, 1.86631354e-07, 9.99999642e-01],\n",
              "       [1.31626308e-07, 1.29268205e-08, 9.99999881e-01],\n",
              "       [4.07788098e-01, 4.11839187e-01, 1.80372775e-01],\n",
              "       [1.36237859e-03, 9.98637617e-01, 7.19323342e-12],\n",
              "       [1.15967859e-02, 9.88143384e-01, 2.59906461e-04],\n",
              "       [7.55029172e-02, 9.24495041e-01, 2.13359090e-06],\n",
              "       [2.11362809e-01, 7.88635492e-01, 1.70938893e-06],\n",
              "       [1.27175257e-01, 6.17382526e-01, 2.55442232e-01],\n",
              "       [5.03375828e-02, 9.49429154e-01, 2.33281389e-04],\n",
              "       [4.23032552e-01, 5.76883733e-01, 8.37117623e-05],\n",
              "       [1.49416854e-03, 9.98505831e-01, 6.91798563e-10],\n",
              "       [1.48626200e-09, 1.00000000e+00, 2.90817683e-14],\n",
              "       [1.33981203e-07, 9.99999881e-01, 5.40915132e-13],\n",
              "       [2.21436680e-03, 9.97775018e-01, 1.05776253e-05],\n",
              "       [5.33370189e-02, 1.52591661e-01, 7.94071376e-01],\n",
              "       [1.34739646e-04, 9.99865055e-01, 2.52399275e-07],\n",
              "       [1.25996312e-05, 9.99986768e-01, 5.46005424e-07],\n",
              "       [9.84182656e-02, 9.01581764e-01, 1.52509791e-08],\n",
              "       [8.95218865e-04, 9.99099970e-01, 4.94137885e-06],\n",
              "       [3.11640883e-06, 9.99790132e-01, 2.06767727e-04],\n",
              "       [5.54549635e-11, 1.00000000e+00, 2.60787231e-14],\n",
              "       [3.37267380e-07, 9.99999642e-01, 8.29895619e-09],\n",
              "       [9.99999642e-01, 3.32075899e-07, 6.98738178e-09],\n",
              "       [9.91419315e-01, 8.58063251e-03, 7.79376428e-14],\n",
              "       [9.76341069e-01, 2.36589070e-02, 6.33208463e-09],\n",
              "       [9.99870181e-01, 1.27903870e-04, 1.87527121e-06],\n",
              "       [9.99815166e-01, 1.84818578e-04, 2.12724109e-11],\n",
              "       [9.99784052e-01, 2.15966720e-04, 2.87839566e-08],\n",
              "       [9.26230431e-01, 7.37695023e-02, 4.39260432e-08],\n",
              "       [9.97798383e-01, 2.20154552e-03, 4.88952520e-13],\n",
              "       [9.99514103e-01, 4.85633645e-04, 2.42053375e-07],\n",
              "       [3.60116991e-03, 9.96397555e-01, 1.25402335e-06],\n",
              "       [8.89815390e-01, 1.10184617e-01, 9.29701149e-10],\n",
              "       [9.98562515e-01, 1.43744866e-03, 1.19672360e-12],\n",
              "       [4.10305746e-02, 9.58969414e-01, 3.09306985e-12],\n",
              "       [1.25368685e-03, 9.87735569e-01, 1.10108238e-02],\n",
              "       [2.45956462e-02, 9.75404322e-01, 2.05630624e-09],\n",
              "       [9.90064204e-01, 9.93579440e-03, 2.27096955e-08],\n",
              "       [9.99993682e-01, 6.35939296e-06, 9.80509229e-10],\n",
              "       [9.93450105e-01, 6.54997723e-03, 2.44282861e-09],\n",
              "       [9.99067008e-01, 9.33035568e-04, 1.75829351e-11],\n",
              "       [9.99189794e-01, 4.55385423e-04, 3.54861433e-04]], dtype=float32)"
            ]
          },
          "metadata": {
            "tags": []
          },
          "execution_count": 16
        }
      ]
    },
    {
      "cell_type": "code",
      "metadata": {
        "colab": {
          "base_uri": "https://localhost:8080/"
        },
        "id": "yGcLlsf7MaRz",
        "outputId": "830a5a1a-4848-4f56-bdc2-cd1fd2bfdcfa"
      },
      "source": [
        "print(labels[0:26])"
      ],
      "execution_count": null,
      "outputs": [
        {
          "output_type": "stream",
          "text": [
            "[2, 2, 2, 2, 2, 2, 2, 2, 2, 2, 2, 2, 2, 2, 2, 2, 2, 2, 2, 2, 2, 2, 2, 2, 2, 2]\n"
          ],
          "name": "stdout"
        }
      ]
    },
    {
      "cell_type": "code",
      "metadata": {
        "colab": {
          "base_uri": "https://localhost:8080/"
        },
        "id": "PgljK2iFMhWc",
        "outputId": "8581e4e3-b676-4a88-9b42-09bf9a7b80f1"
      },
      "source": [
        "print(labels[26:46])"
      ],
      "execution_count": null,
      "outputs": [
        {
          "output_type": "stream",
          "text": [
            "[1, 1, 1, 1, 1, 1, 1, 1, 1, 1, 1, 1, 1, 1, 1, 1, 1, 1, 1, 1]\n"
          ],
          "name": "stdout"
        }
      ]
    },
    {
      "cell_type": "code",
      "metadata": {
        "colab": {
          "base_uri": "https://localhost:8080/"
        },
        "id": "Go0aMtQ0fCjj",
        "outputId": "3ef7986a-dd01-426e-a40d-c99cbaae4548"
      },
      "source": [
        "covid_fvector=y_pred[0:26,:]\n",
        "covid_fvector"
      ],
      "execution_count": null,
      "outputs": [
        {
          "output_type": "execute_result",
          "data": {
            "text/plain": [
              "array([[4.80408602e-09, 1.26582878e-08, 1.00000000e+00],\n",
              "       [1.51142228e-06, 6.42857867e-06, 9.99992013e-01],\n",
              "       [3.74491445e-11, 1.64209951e-06, 9.99998331e-01],\n",
              "       [3.40328654e-10, 2.88411650e-09, 1.00000000e+00],\n",
              "       [1.03297043e-06, 3.26344502e-06, 9.99995708e-01],\n",
              "       [1.19200072e-08, 6.89502656e-02, 9.31049705e-01],\n",
              "       [4.13226462e-06, 2.76084453e-08, 9.99995828e-01],\n",
              "       [2.28551856e-12, 1.21202259e-09, 1.00000000e+00],\n",
              "       [4.74839089e-06, 4.48345199e-05, 9.99950409e-01],\n",
              "       [1.55385127e-08, 1.96955854e-10, 1.00000000e+00],\n",
              "       [5.31458155e-10, 1.03357670e-04, 9.99896646e-01],\n",
              "       [1.04926086e-08, 6.95959868e-09, 1.00000000e+00],\n",
              "       [7.22894677e-09, 4.11840340e-09, 1.00000000e+00],\n",
              "       [2.16774099e-11, 4.69099369e-12, 1.00000000e+00],\n",
              "       [5.79588892e-08, 1.47004528e-06, 9.99998450e-01],\n",
              "       [5.80508475e-10, 2.15333401e-07, 9.99999762e-01],\n",
              "       [5.60446779e-07, 7.10885274e-07, 9.99998689e-01],\n",
              "       [2.74904073e-06, 3.47026941e-07, 9.99996901e-01],\n",
              "       [9.33303852e-07, 2.97432211e-06, 9.99996066e-01],\n",
              "       [4.97008887e-06, 2.39364397e-07, 9.99994755e-01],\n",
              "       [1.12026491e-11, 1.11251764e-01, 8.88748169e-01],\n",
              "       [4.13226462e-06, 2.76084453e-08, 9.99995828e-01],\n",
              "       [9.93209076e-04, 5.69836311e-06, 9.99001086e-01],\n",
              "       [5.05111877e-15, 4.02793474e-14, 1.00000000e+00],\n",
              "       [1.49236328e-07, 1.86631354e-07, 9.99999642e-01],\n",
              "       [1.31626308e-07, 1.29268205e-08, 9.99999881e-01]], dtype=float32)"
            ]
          },
          "metadata": {
            "tags": []
          },
          "execution_count": 35
        }
      ]
    },
    {
      "cell_type": "code",
      "metadata": {
        "colab": {
          "base_uri": "https://localhost:8080/"
        },
        "id": "1GsU5nulgdIV",
        "outputId": "9f44ee46-dbe4-446b-d1c1-8508d062a984"
      },
      "source": [
        "covid_fvector.shape"
      ],
      "execution_count": null,
      "outputs": [
        {
          "output_type": "execute_result",
          "data": {
            "text/plain": [
              "(26, 3)"
            ]
          },
          "metadata": {
            "tags": []
          },
          "execution_count": 36
        }
      ]
    },
    {
      "cell_type": "code",
      "metadata": {
        "colab": {
          "base_uri": "https://localhost:8080/"
        },
        "id": "8kEOLT1hgktu",
        "outputId": "982af235-db45-41f6-f66f-d9290188dde3"
      },
      "source": [
        "pneumonia_fvector=y_pred[26:46,:]\n",
        "pneumonia_fvector"
      ],
      "execution_count": null,
      "outputs": [
        {
          "output_type": "execute_result",
          "data": {
            "text/plain": [
              "array([[4.0778810e-01, 4.1183919e-01, 1.8037277e-01],\n",
              "       [1.3623786e-03, 9.9863762e-01, 7.1932334e-12],\n",
              "       [1.1596786e-02, 9.8814338e-01, 2.5990646e-04],\n",
              "       [7.5502917e-02, 9.2449504e-01, 2.1335909e-06],\n",
              "       [2.1136281e-01, 7.8863549e-01, 1.7093889e-06],\n",
              "       [1.2717526e-01, 6.1738253e-01, 2.5544223e-01],\n",
              "       [5.0337583e-02, 9.4942915e-01, 2.3328139e-04],\n",
              "       [4.2303255e-01, 5.7688373e-01, 8.3711762e-05],\n",
              "       [1.4941685e-03, 9.9850583e-01, 6.9179856e-10],\n",
              "       [1.4862620e-09, 1.0000000e+00, 2.9081768e-14],\n",
              "       [1.3398120e-07, 9.9999988e-01, 5.4091513e-13],\n",
              "       [2.2143668e-03, 9.9777502e-01, 1.0577625e-05],\n",
              "       [5.3337019e-02, 1.5259166e-01, 7.9407138e-01],\n",
              "       [1.3473965e-04, 9.9986506e-01, 2.5239927e-07],\n",
              "       [1.2599631e-05, 9.9998677e-01, 5.4600542e-07],\n",
              "       [9.8418266e-02, 9.0158176e-01, 1.5250979e-08],\n",
              "       [8.9521887e-04, 9.9909997e-01, 4.9413788e-06],\n",
              "       [3.1164088e-06, 9.9979013e-01, 2.0676773e-04],\n",
              "       [5.5454964e-11, 1.0000000e+00, 2.6078723e-14],\n",
              "       [3.3726738e-07, 9.9999964e-01, 8.2989562e-09]], dtype=float32)"
            ]
          },
          "metadata": {
            "tags": []
          },
          "execution_count": 37
        }
      ]
    },
    {
      "cell_type": "code",
      "metadata": {
        "colab": {
          "base_uri": "https://localhost:8080/"
        },
        "id": "25tJoLbqhNds",
        "outputId": "737c3138-02f9-44a0-f87c-69f8bb0ce8b8"
      },
      "source": [
        "pneumonia_fvector.shape"
      ],
      "execution_count": null,
      "outputs": [
        {
          "output_type": "execute_result",
          "data": {
            "text/plain": [
              "(20, 3)"
            ]
          },
          "metadata": {
            "tags": []
          },
          "execution_count": 38
        }
      ]
    },
    {
      "cell_type": "code",
      "metadata": {
        "colab": {
          "base_uri": "https://localhost:8080/"
        },
        "id": "HaFJKaDdhR3N",
        "outputId": "f027b4a9-629d-47d2-e32b-eee1cae1fb0b"
      },
      "source": [
        "normal_fvector=y_pred[46:,:]\n",
        "normal_fvector"
      ],
      "execution_count": null,
      "outputs": [
        {
          "output_type": "execute_result",
          "data": {
            "text/plain": [
              "array([[9.9999964e-01, 3.3207590e-07, 6.9873818e-09],\n",
              "       [9.9141932e-01, 8.5806325e-03, 7.7937643e-14],\n",
              "       [9.7634107e-01, 2.3658907e-02, 6.3320846e-09],\n",
              "       [9.9987018e-01, 1.2790387e-04, 1.8752712e-06],\n",
              "       [9.9981517e-01, 1.8481858e-04, 2.1272411e-11],\n",
              "       [9.9978405e-01, 2.1596672e-04, 2.8783957e-08],\n",
              "       [9.2623043e-01, 7.3769502e-02, 4.3926043e-08],\n",
              "       [9.9779838e-01, 2.2015455e-03, 4.8895252e-13],\n",
              "       [9.9951410e-01, 4.8563365e-04, 2.4205337e-07],\n",
              "       [3.6011699e-03, 9.9639755e-01, 1.2540233e-06],\n",
              "       [8.8981539e-01, 1.1018462e-01, 9.2970115e-10],\n",
              "       [9.9856251e-01, 1.4374487e-03, 1.1967236e-12],\n",
              "       [4.1030575e-02, 9.5896941e-01, 3.0930699e-12],\n",
              "       [1.2536868e-03, 9.8773557e-01, 1.1010824e-02],\n",
              "       [2.4595646e-02, 9.7540432e-01, 2.0563062e-09],\n",
              "       [9.9006420e-01, 9.9357944e-03, 2.2709695e-08],\n",
              "       [9.9999368e-01, 6.3593930e-06, 9.8050923e-10],\n",
              "       [9.9345011e-01, 6.5499772e-03, 2.4428286e-09],\n",
              "       [9.9906701e-01, 9.3303557e-04, 1.7582935e-11],\n",
              "       [9.9918979e-01, 4.5538542e-04, 3.5486143e-04]], dtype=float32)"
            ]
          },
          "metadata": {
            "tags": []
          },
          "execution_count": 39
        }
      ]
    },
    {
      "cell_type": "code",
      "metadata": {
        "colab": {
          "base_uri": "https://localhost:8080/"
        },
        "id": "08KgTAPTk08I",
        "outputId": "ffcfb445-be2b-4bdb-f845-70648cb3b789"
      },
      "source": [
        "from scipy import spatial\n",
        "from sklearn.metrics.pairwise import cosine_similarity\n",
        "from scipy import sparse\n",
        "covid_fvector_sparse,normal_fvector_sparse=sparse.csr_matrix(covid_fvector),sparse.csr_matrix(normal_fvector)\n",
        "sim_sparse=cosine_similarity(covid_fvector_sparse,normal_fvector_sparse,dense_output=False)\n",
        "print(sim_sparse)"
      ],
      "execution_count": null,
      "outputs": [
        {
          "output_type": "stream",
          "text": [
            "  (0, 19)\t0.00035515393\n",
            "  (0, 18)\t4.8335047e-09\n",
            "  (0, 17)\t7.346319e-09\n",
            "  (0, 16)\t5.784682e-09\n",
            "  (0, 15)\t2.7867314e-08\n",
            "  (0, 14)\t1.4882854e-08\n",
            "  (0, 13)\t0.011146854\n",
            "  (0, 12)\t1.2855299e-08\n",
            "  (0, 11)\t4.823501e-09\n",
            "  (0, 10)\t7.360155e-09\n",
            "  (0, 9)\t1.2712245e-06\n",
            "  (0, 8)\t2.4698124e-07\n",
            "  (0, 7)\t4.8324935e-09\n",
            "  (0, 6)\t5.3068735e-08\n",
            "  (0, 5)\t3.359699e-08\n",
            "  (0, 4)\t4.827702e-09\n",
            "  (0, 3)\t1.8803204e-06\n",
            "  (0, 2)\t1.1592947e-08\n",
            "  (0, 1)\t4.9135367e-09\n",
            "  (0, 0)\t1.17914745e-08\n",
            "  (1, 19)\t0.00035666348\n",
            "  (1, 18)\t1.517455e-06\n",
            "  (1, 17)\t1.5562445e-06\n",
            "  (1, 16)\t1.5124558e-06\n",
            "  (1, 15)\t1.5988059e-06\n",
            "  :\t:\n",
            "  (24, 4)\t1.4929215e-07\n",
            "  (24, 3)\t2.024775e-06\n",
            "  (24, 2)\t1.6019737e-07\n",
            "  (24, 1)\t1.508461e-07\n",
            "  (24, 0)\t1.5622382e-07\n",
            "  (25, 19)\t0.00035528076\n",
            "  (25, 18)\t1.3165594e-07\n",
            "  (25, 17)\t1.3416755e-07\n",
            "  (25, 16)\t1.3260693e-07\n",
            "  (25, 15)\t1.5468585e-07\n",
            "  (25, 14)\t1.8348217e-08\n",
            "  (25, 13)\t0.011146854\n",
            "  (25, 12)\t1.854486e-08\n",
            "  (25, 11)\t1.3164598e-07\n",
            "  (25, 10)\t1.3325412e-07\n",
            "  (25, 9)\t1.2719514e-06\n",
            "  (25, 8)\t3.738036e-07\n",
            "  (25, 7)\t1.31655e-07\n",
            "  (25, 6)\t1.7951196e-07\n",
            "  (25, 5)\t1.6041926e-07\n",
            "  (25, 4)\t1.3164997e-07\n",
            "  (25, 3)\t2.0071427e-06\n",
            "  (25, 2)\t1.3838446e-07\n",
            "  (25, 1)\t1.3173336e-07\n",
            "  (25, 0)\t1.386137e-07\n"
          ],
          "name": "stdout"
        }
      ]
    },
    {
      "cell_type": "code",
      "metadata": {
        "id": "1gA0rAj25V-U",
        "colab": {
          "base_uri": "https://localhost:8080/"
        },
        "outputId": "caf27c72-a79b-4f5f-9ead-1c7a6e0853b6"
      },
      "source": [
        "#similarity between covid and pneumonia\n",
        "from scipy import spatial\n",
        "from sklearn.metrics.pairwise import cosine_similarity\n",
        "from scipy import sparse\n",
        "covid_fvector_sparse,pneumonia_fvector_sparse=sparse.csr_matrix(covid_fvector),sparse.csr_matrix(pneumonia_fvector)\n",
        "sim_sparse=cosine_similarity(covid_fvector_sparse,pneumonia_fvector_sparse,dense_output=False)\n",
        "print(sim_sparse)"
      ],
      "execution_count": null,
      "outputs": [
        {
          "output_type": "stream",
          "text": [
            "  (0, 19)\t2.0957248e-08\n",
            "  (0, 18)\t1.26583135e-08\n",
            "  (0, 17)\t0.00020682378\n",
            "  (0, 16)\t4.9584905e-06\n",
            "  (0, 15)\t2.9920766e-08\n",
            "  (0, 14)\t5.58671e-07\n",
            "  (0, 13)\t2.650923e-07\n",
            "  (0, 12)\t0.97990316\n",
            "  (0, 11)\t1.0613856e-05\n",
            "  (0, 10)\t1.26588295e-08\n",
            "  (0, 9)\t1.2658317e-08\n",
            "  (0, 8)\t1.3358296e-08\n",
            "  (0, 7)\t0.00011703221\n",
            "  (0, 6)\t0.00024537527\n",
            "  (0, 5)\t0.37557504\n",
            "  (0, 4)\t2.107109e-06\n",
            "  (0, 3)\t2.3131938e-06\n",
            "  (0, 2)\t0.00026301964\n",
            "  (0, 1)\t1.2672032e-08\n",
            "  (0, 0)\t0.29715934\n",
            "  (1, 19)\t6.4369297e-06\n",
            "  (1, 18)\t6.42863e-06\n",
            "  (1, 17)\t0.00021323975\n",
            "  (1, 16)\t1.137581e-05\n",
            "  (1, 15)\t6.5714985e-06\n",
            "  :\t:\n",
            "  (24, 4)\t2.3125413e-06\n",
            "  (24, 3)\t2.4983462e-06\n",
            "  (24, 2)\t0.00026319528\n",
            "  (24, 1)\t1.8684204e-07\n",
            "  (24, 0)\t0.29715958\n",
            "  (25, 19)\t2.1225826e-08\n",
            "  (25, 18)\t1.2926848e-08\n",
            "  (25, 17)\t0.00020682404\n",
            "  (25, 16)\t4.958873e-06\n",
            "  (25, 15)\t4.3950102e-08\n",
            "  (25, 14)\t5.589411e-07\n",
            "  (25, 13)\t2.653779e-07\n",
            "  (25, 12)\t0.97990316\n",
            "  (25, 11)\t1.0614405e-05\n",
            "  (25, 10)\t1.2927381e-08\n",
            "  (25, 9)\t1.2926852e-08\n",
            "  (25, 8)\t1.3816607e-08\n",
            "  (25, 7)\t0.000117107425\n",
            "  (25, 6)\t0.00024538225\n",
            "  (25, 5)\t0.37557507\n",
            "  (25, 4)\t2.1401993e-06\n",
            "  (25, 3)\t2.3237844e-06\n",
            "  (25, 2)\t0.0002630214\n",
            "  (25, 1)\t1.3113582e-08\n",
            "  (25, 0)\t0.29715943\n"
          ],
          "name": "stdout"
        }
      ]
    },
    {
      "cell_type": "code",
      "metadata": {
        "colab": {
          "base_uri": "https://localhost:8080/"
        },
        "id": "XUMcwh4nIa4n",
        "outputId": "f6cf5866-6890-4397-e465-fcc9637eca8d"
      },
      "source": [
        "#similarity between normal and pneumonia\n",
        "from scipy import spatial\n",
        "from sklearn.metrics.pairwise import cosine_similarity\n",
        "from scipy import sparse\n",
        "normal_fvector_sparse,pneumonia_fvector_sparse=sparse.csr_matrix(normal_fvector),sparse.csr_matrix(pneumonia_fvector)\n",
        "sim_sparse=cosine_similarity(normal_fvector_sparse,pneumonia_fvector_sparse,dense_output=False)\n",
        "print(sim_sparse)"
      ],
      "execution_count": null,
      "outputs": [
        {
          "output_type": "stream",
          "text": [
            "  (0, 19)\t6.6934354e-07\n",
            "  (0, 18)\t3.3213146e-07\n",
            "  (0, 17)\t3.4491404e-06\n",
            "  (0, 16)\t0.000896357\n",
            "  (0, 15)\t0.10851745\n",
            "  (0, 14)\t1.2931873e-05\n",
            "  (0, 13)\t0.00013508991\n",
            "  (0, 12)\t0.06581923\n",
            "  (0, 11)\t0.0022196313\n",
            "  (0, 10)\t4.6605723e-07\n",
            "  (0, 9)\t3.3356227e-07\n",
            "  (0, 8)\t0.0014967349\n",
            "  (0, 7)\t0.5913498\n",
            "  (0, 6)\t0.052944757\n",
            "  (0, 5)\t0.18698524\n",
            "  (0, 4)\t0.25887486\n",
            "  (0, 3)\t0.08139868\n",
            "  (0, 2)\t0.011735458\n",
            "  (0, 1)\t0.0013645681\n",
            "  (0, 0)\t0.6718202\n",
            "  (1, 19)\t0.00865491\n",
            "  (1, 18)\t0.008654573\n",
            "  (1, 17)\t0.00865769\n",
            "  (1, 16)\t0.00955056\n",
            "  (1, 15)\t0.117116526\n",
            "  :\t:\n",
            "  (18, 4)\t0.25977647\n",
            "  (18, 3)\t0.082329124\n",
            "  (18, 2)\t0.012668962\n",
            "  (18, 1)\t0.002298141\n",
            "  (18, 0)\t0.67245334\n",
            "  (19, 19)\t0.00045609186\n",
            "  (19, 18)\t0.00045575466\n",
            "  (19, 17)\t0.0004589451\n",
            "  (19, 16)\t0.0013517808\n",
            "  (19, 15)\t0.108970165\n",
            "  (19, 14)\t0.0004683546\n",
            "  (19, 13)\t0.0005905125\n",
            "  (19, 12)\t0.06625298\n",
            "  (19, 11)\t0.002675056\n",
            "  (19, 10)\t0.0004558886\n",
            "  (19, 9)\t0.0004557561\n",
            "  (19, 8)\t0.0019521567\n",
            "  (19, 7)\t0.591717\n",
            "  (19, 6)\t0.053399615\n",
            "  (19, 5)\t0.187532\n",
            "  (19, 4)\t0.2593147\n",
            "  (19, 3)\t0.08185258\n",
            "  (19, 2)\t0.01219094\n",
            "  (19, 1)\t0.0018199899\n",
            "  (19, 0)\t0.67223465\n"
          ],
          "name": "stdout"
        }
      ]
    },
    {
      "cell_type": "code",
      "metadata": {
        "id": "_tUDEBUALH-I"
      },
      "source": [
        ""
      ],
      "execution_count": null,
      "outputs": []
    }
  ]
}